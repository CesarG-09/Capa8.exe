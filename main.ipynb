{
 "cells": [
  {
   "cell_type": "markdown",
   "id": "f6478da3",
   "metadata": {},
   "source": [
    "<h2>Archivo .ipynb que podemos usar como pruebas, para desarrollar el algoritmo principal.</h2>"
   ]
  },
  {
   "cell_type": "markdown",
   "id": "d9aacda6",
   "metadata": {},
   "source": [
    "*Importar Librerias*"
   ]
  },
  {
   "cell_type": "code",
   "execution_count": null,
   "id": "10c846b3",
   "metadata": {},
   "outputs": [],
   "source": [
    "import datetime"
   ]
  },
  {
   "cell_type": "code",
   "execution_count": 1,
   "id": "0ad2bffe",
   "metadata": {},
   "outputs": [],
   "source": [
    "# --- Módulo 1: Definición de la Red (El \"Mapa\") ---\n",
    "# Describe la infraestructura estática: paradas, rutas y distancias/tiempos base.\n",
    "\n",
    "PARADAS= {\n",
    "    \"PAICT1A\": {\"nombre\": \"Paitilla-I\", \"coordenadas\": (0, 0)},\n",
    "    \"AQGCT3A\": {\"nombre\": \"Aquilino de la Guardia\", \"coordenadas\": (0, 0)},\n",
    "    \"C0971-1\": {\"nombre\": \"Federico Boyd-R\", \"coordenadas\": (0, 0)},\n",
    "    \"C0969-1\": {\"nombre\": \"Entrada Calle 50-R\", \"coordenadas\": (0, 0)},\n",
    "    \"C1047-1\": {\"nombre\": \"Iglesia del Carmen-R\", \"coordenadas\": (0, 0)},\n",
    "    \"C0967-1\": {\"nombre\": \"Crowne Plaza-R\", \"coordenadas\": (0, 0)},\n",
    "    \"MEBME2A\": {\"nombre\": \"Manuel Espinoza Batista-R\", \"coordenadas\": (0, 0)},\n",
    "    \"CVANA2A\": {\"nombre\": \"Cerveceria Nacional-R\", \"coordenadas\": (0, 0)},\n",
    "    \"LOCER2A\": {\"nombre\": \"La Loceria-R\", \"coordenadas\": (0, 0)},\n",
    "    \"LANTM2A\": {\"nombre\": \"Los Angeles-R\", \"coordenadas\": (0, 0)},\n",
    "    \"MAKLG3A\": {\"nombre\": \"Calle 63 C\", \"coordenadas\": (0, 0)},\n",
    "    \"BRILG3A\": {\"nombre\": \"Patio Brinks\", \"coordenadas\": (0, 0)},\n",
    "    \"C63LG3A\": {\"nombre\": \"Calle 63 Oeste\", \"coordenadas\": (0, 0)},\n",
    "    \"ERMVH3A\": {\"nombre\": \"Esc. Ricardo Miro\", \"coordenadas\": (0, 0)},\n",
    "    \"ESFCO1A\": {\"nombre\": \"Metro Fernandez de Cordoba-I\", \"coordenadas\": (0, 0)},\n",
    "    \"OBARR3A\": {\"nombre\": \"Obarrio\", \"coordenadas\": (0, 0)},\n",
    "    \"GOBVB3A\": {\"nombre\": \"Galerias Obarrio\", \"coordenadas\": (0, 0)},\n",
    "    \"ASLVB3A\": {\"nombre\": \"Av. Samuel Lewis\", \"coordenadas\": (0, 0)},\n",
    "    \"VIAVB3A\": {\"nombre\": \"Via Brasil\", \"coordenadas\": (0, 0)},\n",
    "    \"PROVI3A\": {\"nombre\": \"Escuela Profesional\", \"coordenadas\": (0, 0)}\n",
    "}\n",
    "\n",
    "RUTAS = {\n",
    "    \"C898\": {\n",
    "        \"nombre\": \"Paitilla-Plaza Edison-Via Brasil\",\n",
    "        \"paradas\": [\n",
    "            {\"id\": \"PAICT1A\", \"orden\": 1, \"tiempo_transcurso\": 5},\n",
    "            {\"id\": \"AQGCT3A\", \"orden\": 2, \"tiempo_transcurso\": 5},\n",
    "            {\"id\": \"C0971-1\", \"orden\": 3, \"tiempo_transcurso\": 2},\n",
    "            {\"id\": \"C0969-1\", \"orden\": 4, \"tiempo_transcurso\": 3},\n",
    "            {\"id\": \"C1047-1\", \"orden\": 5, \"tiempo_transcurso\": 2},\n",
    "            {\"id\": \"C0967-1\", \"orden\": 6, \"tiempo_transcurso\": 3},\n",
    "            {\"id\": \"MEBME2A\", \"orden\": 7, \"tiempo_transcurso\": 5},\n",
    "            {\"id\": \"CVANA2A\", \"orden\": 8, \"tiempo_transcurso\": 5},\n",
    "            {\"id\": \"LOCER2A\", \"orden\": 9, \"tiempo_transcurso\": 5},\n",
    "            {\"id\": \"LANTM2A\", \"orden\": 10, \"tiempo_transcurso\": 5},\n",
    "            {\"id\": \"MAKLG3A\", \"orden\": 11, \"tiempo_transcurso\": 2},\n",
    "            {\"id\": \"BRILG3A\", \"orden\": 12, \"tiempo_transcurso\": 2},\n",
    "            {\"id\": \"C63LG3A\", \"orden\": 13, \"tiempo_transcurso\": 4},\n",
    "            {\"id\": \"ERMVH3A\", \"orden\": 14, \"tiempo_transcurso\": 4},\n",
    "            {\"id\": \"ESFCO1A\", \"orden\": 15, \"tiempo_transcurso\": 5},\n",
    "            {\"id\": \"OBARR3A\", \"orden\": 16, \"tiempo_transcurso\": 5},\n",
    "            {\"id\": \"GOBVB3A\", \"orden\": 17, \"tiempo_transcurso\": 5},\n",
    "            {\"id\": \"ASLVB3A\", \"orden\": 18, \"tiempo_transcurso\": 5},\n",
    "            {\"id\": \"VIAVB3A\", \"orden\": 19, \"tiempo_transcurso\": 5},\n",
    "            {\"id\": \"PROVI3A\", \"orden\": 20, \"tiempo_transcurso\": 5},\n",
    "            {\"id\": \"PAICT1A\", \"orden\": 21, \"tiempo_transcurso\": None}  # Regreso a Paitilla\n",
    "        ],\n",
    "        \"frecuencia\": 45,  # minutos entre autobuses en esta ruta\n",
    "        \"tiempo_espera_base\": 3  # Tiempo de espera base en minutos en cada parada para la ruta C898\n",
    "        }\n",
    "}\n",
    "\n",
    "# Flota de autobuses disponibles\n",
    "FLOTA_AUTOBUSES = [f\"Bus_{i:02d}\" for i in range(1, 5)] # Tenemos 4 autobuses"
   ]
  },
  {
   "cell_type": "code",
   "execution_count": 2,
   "id": "3324c4aa",
   "metadata": {},
   "outputs": [
    {
     "name": "stdout",
     "output_type": "stream",
     "text": [
      "1. Paitilla-I -> 5 min\n",
      "2. Aquilino de la Guardia -> 5 min\n",
      "3. Federico Boyd-R -> 2 min\n",
      "4. Entrada Calle 50-R -> 3 min\n",
      "5. Iglesia del Carmen-R -> 2 min\n",
      "6. Crowne Plaza-R -> 3 min\n",
      "7. Manuel Espinoza Batista-R -> 5 min\n",
      "8. Cerveceria Nacional-R -> 5 min\n",
      "9. La Loceria-R -> 5 min\n",
      "10. Los Angeles-R -> 5 min\n",
      "11. Calle 63 C -> 2 min\n",
      "12. Patio Brinks -> 2 min\n",
      "13. Calle 63 Oeste -> 4 min\n",
      "14. Esc. Ricardo Miro -> 4 min\n",
      "15. Metro Fernandez de Cordoba-I -> 5 min\n",
      "16. Obarrio -> 5 min\n",
      "17. Galerias Obarrio -> 5 min\n",
      "18. Av. Samuel Lewis -> 5 min\n",
      "19. Via Brasil -> 5 min\n",
      "20. Escuela Profesional -> 5 min\n",
      "21. Paitilla-I -> None min\n"
     ]
    }
   ],
   "source": [
    "# Mostrar todas las paradas de una ruta con sus tiempos\n",
    "for parada in RUTAS[\"C898\"][\"paradas\"]:\n",
    "    nombre = PARADAS[parada[\"id\"]][\"nombre\"]\n",
    "    print(f\"{parada['orden']}. {nombre} -> {parada['tiempo_transcurso']} min\")\n"
   ]
  }
 ],
 "metadata": {
  "kernelspec": {
   "display_name": "vn",
   "language": "python",
   "name": "python3"
  },
  "language_info": {
   "codemirror_mode": {
    "name": "ipython",
    "version": 3
   },
   "file_extension": ".py",
   "mimetype": "text/x-python",
   "name": "python",
   "nbconvert_exporter": "python",
   "pygments_lexer": "ipython3",
   "version": "3.13.3"
  }
 },
 "nbformat": 4,
 "nbformat_minor": 5
}
