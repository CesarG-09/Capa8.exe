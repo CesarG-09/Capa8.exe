{
 "cells": [
  {
   "cell_type": "markdown",
   "id": "f6478da3",
   "metadata": {},
   "source": [
    "<h2>Archivo .ipynb que podemos usar como pruebas, para desarrollar el algoritmo principal.</h2>"
   ]
  },
  {
   "cell_type": "markdown",
   "id": "d9aacda6",
   "metadata": {},
   "source": [
    "*Importar Librerias*"
   ]
  },
  {
   "cell_type": "code",
   "execution_count": null,
   "id": "10c846b3",
   "metadata": {},
   "outputs": [],
   "source": [
    "import datetime"
   ]
  },
  {
   "cell_type": "code",
   "execution_count": 3,
   "id": "0ad2bffe",
   "metadata": {},
   "outputs": [],
   "source": [
    "# --- Módulo 1: Definición de la Red (El \"Mapa\") ---\n",
    "# Describe la infraestructura estática: paradas, rutas y distancias/tiempos base.\n",
    "\n",
    "RUTAS = {\n",
    "    \"C898\": {\n",
    "        \"paradas\": [\n",
    "            \"PAICT1A\",\n",
    "            \"AQGCT3A\",\n",
    "            \"C0971-1\",\n",
    "            \"C0969-1\",\n",
    "            \"C1047-1\",\n",
    "            \"C0967-1\",\n",
    "            \"MEBME2A\",\n",
    "            \"CVANA2A\",\n",
    "            \"LOCER2A\",\n",
    "            \"LANTM2A\",\n",
    "            \"MAKLG3A\",\n",
    "            \"BRILG3A\",\n",
    "            \"C63LG3A\",\n",
    "            \"ERMVH3A\",\n",
    "            \"ESFCO1A\",\n",
    "            \"OBARR3A\",\n",
    "            \"VIAVB3A\",\n",
    "            \"PROVI3A\",\n",
    "            \"PAICT1A\" \n",
    "        ]\n",
    "    }\n",
    "}\n",
    "\n",
    "PARADAS_RUTA_C898= {\n",
    "    \"PAICT1A\": {\"nombre\": \"Paitilla-I\", \"coordenadas\": (0, 0)},\n",
    "    \"AQGCT3A\": {\"nombre\": \"Aquilino de la Guardia\", \"coordenadas\": (0, 0)},\n",
    "    \"C0971-1\": {\"nombre\": \"Federico Boyd-R\", \"coordenadas\": (0, 0)},\n",
    "    \"C0969-1\": {\"nombre\": \"Entrada Calle 50-R\", \"coordenadas\": (0, 0)},\n",
    "    \"C1047-1\": {\"nombre\": \"Iglesia del Carmen-R\", \"coordenadas\": (0, 0)},\n",
    "    \"C0967-1\": {\"nombre\": \"Crowne Plaza-R\", \"coordenadas\": (0, 0)},\n",
    "    \"MEBME2A\": {\"nombre\": \"Manuel Espinoza Batista-R\", \"coordenadas\": (0, 0)},\n",
    "    \"CVANA2A\": {\"nombre\": \"Cerveceria Nacional-R\", \"coordenadas\": (0, 0)},\n",
    "    \"LOCER2A\": {\"nombre\": \"La Loceria-R\", \"coordenadas\": (0, 0)},\n",
    "    \"LANTM2A\": {\"nombre\": \"Los Angeles-R\", \"coordenadas\": (0, 0)},\n",
    "    \"MAKLG3A\": {\"nombre\": \"Calle 63 C\", \"coordenadas\": (0, 0)},\n",
    "    \"BRILG3A\": {\"nombre\": \"Patio Brinks\", \"coordenadas\": (0, 0)},\n",
    "    \"C63LG3A\": {\"nombre\": \"Calle 63 Oeste\", \"coordenadas\": (0, 0)},\n",
    "    \"ERMVH3A\": {\"nombre\": \"Esc. Ricardo Miro\", \"coordenadas\": (0, 0)},\n",
    "    \"ESFCO1A\": {\"nombre\": \"Metro Fernandez de Cordoba-I\", \"coordenadas\": (0, 0)},\n",
    "    \"OBARR3A\": {\"nombre\": \"Obarrio\", \"coordenadas\": (0, 0)},\n",
    "    \"GOBVB3A\": {\"nombre\": \"Galerias Obarrio\", \"coordenadas\": (0, 0)},\n",
    "    \"ASLVB3A\": {\"nombre\": \"Av. Samuel Lewis\", \"coordenadas\": (0, 0)},\n",
    "    \"VIAVB3A\": {\"nombre\": \"Via Brasil\", \"coordenadas\": (0, 0)},\n",
    "    \"PROVI3A\": {\"nombre\": \"Escuela Profesional\", \"coordenadas\": (0, 0)},\n",
    "    \"PAICT1A\": {\"nombre\": \"Paitilla-I\", \"coordenadas\": (0, 0)}\n",
    "}\n",
    "\n",
    "\n",
    "# Tiempos de viaje base en minutos entre paradas CONSECUTIVAS de una ruta\n",
    "TIEMPOS_BASE_ENTRE_PARADAS = {\n",
    "    \"C898\": {\n",
    "        (\"PAICT1A\", \"AQGCT3A\"): 5,\n",
    "        (\"AQGCT3A\", \"C0971-1\"): 5,\n",
    "        (\"C0971-1\", \"C0969-1\"): 2,\n",
    "        (\"C0969-1\", \"C1047-1\"): 3,\n",
    "        (\"C1047-1\", \"C0967-1\"): 2,\n",
    "        (\"C0967-1\", \"MEBME2A\"): 3,\n",
    "        (\"MEBME2A\", \"CVANA2A\"): 5,\n",
    "        (\"CVANA2A\", \"LOCER2A\"): 5,\n",
    "        (\"LOCER2A\", \"LANTM2A\"): 5,\n",
    "        (\"LANTM2A\", \"MAKLG3A\"): 2,\n",
    "        (\"MAKLG3A\", \"BRILG3A\"): 2,\n",
    "        (\"BRILG3A\", \"C63LG3A\"): 4,\n",
    "        (\"C63LG3A\", \"ERMVH3A\"): 4,\n",
    "        (\"ERMVH3A\", \"ESFCO1A\"): 5,\n",
    "        (\"ESFCO1A\", \"OBARR3A\"): 5,\n",
    "        (\"OBARR3A\", \"GOBVB3A\"): 3,\n",
    "        (\"GOBVB3A\", \"ASLVB3A\"): 5,\n",
    "        (\"ASLVB3A\", \"VIAVB3A\"): 6,\n",
    "        (\"VIAVB3A\", \"PROVI3A\"): 5,\n",
    "        (\"PROVI3A\", \"PAICT1A\"): 6\n",
    "    }\n",
    "}\n",
    "\n",
    "TIEMPOS_ESPERA_BASE = {\n",
    "    \"C898\": 3  # Tiempo de espera base en minutos en cada parada para la ruta C898\n",
    "}\n",
    "\n",
    "# Flota de autobuses disponibles\n",
    "FLOTA_AUTOBUSES = [f\"Bus_{i:02d}\" for i in range(1, 5)] # Tenemos 4 autobuses"
   ]
  }
 ],
 "metadata": {
  "kernelspec": {
   "display_name": "Python 3",
   "language": "python",
   "name": "python3"
  },
  "language_info": {
   "codemirror_mode": {
    "name": "ipython",
    "version": 3
   },
   "file_extension": ".py",
   "mimetype": "text/x-python",
   "name": "python",
   "nbconvert_exporter": "python",
   "pygments_lexer": "ipython3",
   "version": "3.13.3"
  }
 },
 "nbformat": 4,
 "nbformat_minor": 5
}
